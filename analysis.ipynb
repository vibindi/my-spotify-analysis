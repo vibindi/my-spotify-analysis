{
 "cells": [
  {
   "cell_type": "markdown",
   "id": "0bbc561f",
   "metadata": {},
   "source": [
    "## Background\n",
    "\n",
    "**TODO:** Write the background"
   ]
  },
  {
   "cell_type": "markdown",
   "id": "cb0d8058",
   "metadata": {},
   "source": [
    "## Questions to Answer\n",
    "\n",
    "General analysis:\n",
    "- Listening patterns over time\n",
    "    - Long term analysis\n",
    "    - Time of day, day of week, season, and other short term analysis\n",
    "- What types of artists and genres did I listen to?\n",
    "- Can I obtain the lyrics of each song and analyze the emotion of a song?\n",
    "    - What emotions of songs did I listen to over time?\n",
    "- How often did I listen to extremely popular artists versus smaller/indie artists?\n",
    "- How often do I listen to music in any one sitting?\n",
    "- How does the frequency of how long I listen to music vary over different time frames?\n",
    "    - How long do I listen to specific artists and genres?\n",
    "- Which countries did I listen to and what type of music did I listen to in those countries?\n",
    "- How is my listening behavior affected by the device I use to listen?\n",
    "\n",
    "\n",
    "Some specific questions:\n",
    "- What type of songs did I either skip or only play for five seconds or less?\n",
    "- What type of songs did I listen to on incognito mode and why?"
   ]
  },
  {
   "cell_type": "code",
   "execution_count": 150,
   "id": "e0ecde50",
   "metadata": {},
   "outputs": [],
   "source": [
    "# import libraries\n",
    "import numpy as np\n",
    "import pandas as pd\n",
    "\n",
    "import matplotlib.pyplot as plt\n",
    "import seaborn as sns\n",
    "\n",
    "from datetime import datetime\n",
    "import calendar\n",
    "import pytz"
   ]
  },
  {
   "cell_type": "code",
   "execution_count": 191,
   "id": "b0196c4b",
   "metadata": {},
   "outputs": [],
   "source": [
    "# read in datasets\n",
    "df0 = pd.read_json(\"data/Streaming_History_Audio_2018-2020_0.json\")\n",
    "df1 = pd.read_json(\"data/Streaming_History_Audio_2020-2021_1.json\")\n",
    "df2 = pd.read_json(\"data/Streaming_History_Audio_2021-2022_2.json\")\n",
    "df3 = pd.read_json(\"data/Streaming_History_Audio_2022_3.json\")\n",
    "df4 = pd.read_json(\"data/Streaming_History_Audio_2022-2023_4.json\")\n",
    "df5 = pd.read_json(\"data/Streaming_History_Audio_2023-2024_5.json\")\n",
    "df6 = pd.read_json(\"data/Streaming_History_Audio_2024_6.json\")"
   ]
  },
  {
   "cell_type": "code",
   "execution_count": 192,
   "id": "adfcc590",
   "metadata": {},
   "outputs": [],
   "source": [
    "df = pd.concat([df0, df1, df2, df3, df4, df5, df6], axis=0)"
   ]
  },
  {
   "cell_type": "code",
   "execution_count": 193,
   "id": "8db84350",
   "metadata": {},
   "outputs": [
    {
     "data": {
      "text/html": [
       "<div>\n",
       "<style scoped>\n",
       "    .dataframe tbody tr th:only-of-type {\n",
       "        vertical-align: middle;\n",
       "    }\n",
       "\n",
       "    .dataframe tbody tr th {\n",
       "        vertical-align: top;\n",
       "    }\n",
       "\n",
       "    .dataframe thead th {\n",
       "        text-align: right;\n",
       "    }\n",
       "</style>\n",
       "<table border=\"1\" class=\"dataframe\">\n",
       "  <thead>\n",
       "    <tr style=\"text-align: right;\">\n",
       "      <th></th>\n",
       "      <th>ts</th>\n",
       "      <th>username</th>\n",
       "      <th>platform</th>\n",
       "      <th>ms_played</th>\n",
       "      <th>conn_country</th>\n",
       "      <th>ip_addr_decrypted</th>\n",
       "      <th>user_agent_decrypted</th>\n",
       "      <th>master_metadata_track_name</th>\n",
       "      <th>master_metadata_album_artist_name</th>\n",
       "      <th>master_metadata_album_album_name</th>\n",
       "      <th>...</th>\n",
       "      <th>episode_name</th>\n",
       "      <th>episode_show_name</th>\n",
       "      <th>spotify_episode_uri</th>\n",
       "      <th>reason_start</th>\n",
       "      <th>reason_end</th>\n",
       "      <th>shuffle</th>\n",
       "      <th>skipped</th>\n",
       "      <th>offline</th>\n",
       "      <th>offline_timestamp</th>\n",
       "      <th>incognito_mode</th>\n",
       "    </tr>\n",
       "  </thead>\n",
       "  <tbody>\n",
       "    <tr>\n",
       "      <th>0</th>\n",
       "      <td>2018-03-16T20:41:49Z</td>\n",
       "      <td>mmphieag</td>\n",
       "      <td>Windows 10 (10.0.16299; x64; AppX)</td>\n",
       "      <td>45010</td>\n",
       "      <td>US</td>\n",
       "      <td>None</td>\n",
       "      <td>None</td>\n",
       "      <td>No Role Modelz</td>\n",
       "      <td>J. Cole</td>\n",
       "      <td>2014 Forest Hills Drive</td>\n",
       "      <td>...</td>\n",
       "      <td>None</td>\n",
       "      <td>None</td>\n",
       "      <td>None</td>\n",
       "      <td>clickrow</td>\n",
       "      <td>None</td>\n",
       "      <td>False</td>\n",
       "      <td>NaN</td>\n",
       "      <td>False</td>\n",
       "      <td>1521232854659</td>\n",
       "      <td>False</td>\n",
       "    </tr>\n",
       "    <tr>\n",
       "      <th>1</th>\n",
       "      <td>2018-03-16T20:42:29Z</td>\n",
       "      <td>mmphieag</td>\n",
       "      <td>Windows 10 (10.0.16299; x64; AppX)</td>\n",
       "      <td>36270</td>\n",
       "      <td>US</td>\n",
       "      <td>None</td>\n",
       "      <td>None</td>\n",
       "      <td>No Role Modelz</td>\n",
       "      <td>J. Cole</td>\n",
       "      <td>2014 Forest Hills Drive</td>\n",
       "      <td>...</td>\n",
       "      <td>None</td>\n",
       "      <td>None</td>\n",
       "      <td>None</td>\n",
       "      <td>appload</td>\n",
       "      <td>None</td>\n",
       "      <td>False</td>\n",
       "      <td>NaN</td>\n",
       "      <td>False</td>\n",
       "      <td>1521232907487</td>\n",
       "      <td>False</td>\n",
       "    </tr>\n",
       "    <tr>\n",
       "      <th>2</th>\n",
       "      <td>2018-03-16T20:44:28Z</td>\n",
       "      <td>mmphieag</td>\n",
       "      <td>Windows 10 (10.0.16299; x64; AppX)</td>\n",
       "      <td>27800</td>\n",
       "      <td>US</td>\n",
       "      <td>None</td>\n",
       "      <td>None</td>\n",
       "      <td>No Role Modelz</td>\n",
       "      <td>J. Cole</td>\n",
       "      <td>2014 Forest Hills Drive</td>\n",
       "      <td>...</td>\n",
       "      <td>None</td>\n",
       "      <td>None</td>\n",
       "      <td>None</td>\n",
       "      <td>clickrow</td>\n",
       "      <td>None</td>\n",
       "      <td>False</td>\n",
       "      <td>NaN</td>\n",
       "      <td>False</td>\n",
       "      <td>1521232947154</td>\n",
       "      <td>False</td>\n",
       "    </tr>\n",
       "    <tr>\n",
       "      <th>3</th>\n",
       "      <td>2018-03-16T20:45:00Z</td>\n",
       "      <td>mmphieag</td>\n",
       "      <td>Windows 10 (10.0.16299; x64; AppX)</td>\n",
       "      <td>31060</td>\n",
       "      <td>US</td>\n",
       "      <td>None</td>\n",
       "      <td>None</td>\n",
       "      <td>Chandler Road (Instrumental Remix)</td>\n",
       "      <td>Sbvce</td>\n",
       "      <td>Sbvce Pvck: Bedroomtrap Vol. 1</td>\n",
       "      <td>...</td>\n",
       "      <td>None</td>\n",
       "      <td>None</td>\n",
       "      <td>None</td>\n",
       "      <td>clickrow</td>\n",
       "      <td>None</td>\n",
       "      <td>False</td>\n",
       "      <td>NaN</td>\n",
       "      <td>False</td>\n",
       "      <td>1521233066829</td>\n",
       "      <td>False</td>\n",
       "    </tr>\n",
       "    <tr>\n",
       "      <th>4</th>\n",
       "      <td>2018-03-16T20:47:55Z</td>\n",
       "      <td>mmphieag</td>\n",
       "      <td>Windows 10 (10.0.16299; x64; AppX)</td>\n",
       "      <td>3870</td>\n",
       "      <td>US</td>\n",
       "      <td>None</td>\n",
       "      <td>None</td>\n",
       "      <td>I. The Worst Guys</td>\n",
       "      <td>Childish Gambino</td>\n",
       "      <td>Because The Internet</td>\n",
       "      <td>...</td>\n",
       "      <td>None</td>\n",
       "      <td>None</td>\n",
       "      <td>None</td>\n",
       "      <td>clickrow</td>\n",
       "      <td>None</td>\n",
       "      <td>False</td>\n",
       "      <td>NaN</td>\n",
       "      <td>False</td>\n",
       "      <td>1521233098379</td>\n",
       "      <td>False</td>\n",
       "    </tr>\n",
       "  </tbody>\n",
       "</table>\n",
       "<p>5 rows × 21 columns</p>\n",
       "</div>"
      ],
      "text/plain": [
       "                     ts  username                            platform  \\\n",
       "0  2018-03-16T20:41:49Z  mmphieag  Windows 10 (10.0.16299; x64; AppX)   \n",
       "1  2018-03-16T20:42:29Z  mmphieag  Windows 10 (10.0.16299; x64; AppX)   \n",
       "2  2018-03-16T20:44:28Z  mmphieag  Windows 10 (10.0.16299; x64; AppX)   \n",
       "3  2018-03-16T20:45:00Z  mmphieag  Windows 10 (10.0.16299; x64; AppX)   \n",
       "4  2018-03-16T20:47:55Z  mmphieag  Windows 10 (10.0.16299; x64; AppX)   \n",
       "\n",
       "   ms_played conn_country ip_addr_decrypted user_agent_decrypted  \\\n",
       "0      45010           US              None                 None   \n",
       "1      36270           US              None                 None   \n",
       "2      27800           US              None                 None   \n",
       "3      31060           US              None                 None   \n",
       "4       3870           US              None                 None   \n",
       "\n",
       "           master_metadata_track_name master_metadata_album_artist_name  \\\n",
       "0                      No Role Modelz                           J. Cole   \n",
       "1                      No Role Modelz                           J. Cole   \n",
       "2                      No Role Modelz                           J. Cole   \n",
       "3  Chandler Road (Instrumental Remix)                             Sbvce   \n",
       "4                   I. The Worst Guys                  Childish Gambino   \n",
       "\n",
       "  master_metadata_album_album_name  ... episode_name episode_show_name  \\\n",
       "0          2014 Forest Hills Drive  ...         None              None   \n",
       "1          2014 Forest Hills Drive  ...         None              None   \n",
       "2          2014 Forest Hills Drive  ...         None              None   \n",
       "3   Sbvce Pvck: Bedroomtrap Vol. 1  ...         None              None   \n",
       "4             Because The Internet  ...         None              None   \n",
       "\n",
       "  spotify_episode_uri reason_start reason_end shuffle  skipped  offline  \\\n",
       "0                None     clickrow       None   False      NaN    False   \n",
       "1                None      appload       None   False      NaN    False   \n",
       "2                None     clickrow       None   False      NaN    False   \n",
       "3                None     clickrow       None   False      NaN    False   \n",
       "4                None     clickrow       None   False      NaN    False   \n",
       "\n",
       "   offline_timestamp  incognito_mode  \n",
       "0      1521232854659           False  \n",
       "1      1521232907487           False  \n",
       "2      1521232947154           False  \n",
       "3      1521233066829           False  \n",
       "4      1521233098379           False  \n",
       "\n",
       "[5 rows x 21 columns]"
      ]
     },
     "execution_count": 193,
     "metadata": {},
     "output_type": "execute_result"
    }
   ],
   "source": [
    "df.head()"
   ]
  },
  {
   "cell_type": "code",
   "execution_count": 194,
   "id": "fff8e667",
   "metadata": {},
   "outputs": [
    {
     "data": {
      "text/plain": [
       "Index(['ts', 'username', 'platform', 'ms_played', 'conn_country',\n",
       "       'ip_addr_decrypted', 'user_agent_decrypted',\n",
       "       'master_metadata_track_name', 'master_metadata_album_artist_name',\n",
       "       'master_metadata_album_album_name', 'spotify_track_uri', 'episode_name',\n",
       "       'episode_show_name', 'spotify_episode_uri', 'reason_start',\n",
       "       'reason_end', 'shuffle', 'skipped', 'offline', 'offline_timestamp',\n",
       "       'incognito_mode'],\n",
       "      dtype='object')"
      ]
     },
     "execution_count": 194,
     "metadata": {},
     "output_type": "execute_result"
    }
   ],
   "source": [
    "df.columns"
   ]
  },
  {
   "cell_type": "markdown",
   "id": "f9d393c1",
   "metadata": {},
   "source": [
    "## Data Cleaning"
   ]
  },
  {
   "cell_type": "markdown",
   "id": "258f06ea",
   "metadata": {},
   "source": [
    "### Connected Country\n",
    "conn_country: This field is the country code of the country where the stream was played (e.g. SE - Sweden)."
   ]
  },
  {
   "cell_type": "code",
   "execution_count": 195,
   "id": "3fe90d0b",
   "metadata": {},
   "outputs": [],
   "source": [
    "df.rename(columns={'conn_country': 'country'}, inplace=True)"
   ]
  },
  {
   "cell_type": "code",
   "execution_count": 196,
   "id": "6f4ac572",
   "metadata": {},
   "outputs": [
    {
     "data": {
      "text/plain": [
       "0    US\n",
       "1    US\n",
       "2    US\n",
       "3    US\n",
       "4    US\n",
       "Name: country, dtype: object"
      ]
     },
     "execution_count": 196,
     "metadata": {},
     "output_type": "execute_result"
    }
   ],
   "source": [
    "df['country'].head()"
   ]
  },
  {
   "cell_type": "code",
   "execution_count": 197,
   "id": "eaa7839d",
   "metadata": {},
   "outputs": [
    {
     "data": {
      "text/plain": [
       "array(['US', 'IS', 'ZZ', 'CA', 'DE', 'IN', 'TZ', 'KE', 'MX', 'DO'],\n",
       "      dtype=object)"
      ]
     },
     "execution_count": 197,
     "metadata": {},
     "output_type": "execute_result"
    }
   ],
   "source": [
    "df['country'].unique()"
   ]
  },
  {
   "cell_type": "code",
   "execution_count": 198,
   "id": "e0596ab9",
   "metadata": {},
   "outputs": [],
   "source": [
    "def convert_to_country(code):\n",
    "    code_dict = {\n",
    "        'US': 'United States',\n",
    "        'IS': 'Iceland',\n",
    "        'ZZ': 'Unknown',\n",
    "        'CA': 'Canada',\n",
    "        'DE': 'Germany',\n",
    "        'IN': 'India',\n",
    "        'TZ': 'Tanzania',\n",
    "        'KE': 'Kenya',\n",
    "        'MX': 'Mexico',\n",
    "        'DO': 'Dominican Republic',\n",
    "    }\n",
    "    \n",
    "    return code_dict[code]\n",
    "\n",
    "df['country'] = df['country'].apply(lambda x: convert_to_country(x))"
   ]
  },
  {
   "cell_type": "code",
   "execution_count": 199,
   "id": "7e5d0c4f",
   "metadata": {},
   "outputs": [
    {
     "data": {
      "text/plain": [
       "array(['United States', 'Iceland', 'Unknown', 'Canada', 'Germany',\n",
       "       'India', 'Tanzania', 'Kenya', 'Mexico', 'Dominican Republic'],\n",
       "      dtype=object)"
      ]
     },
     "execution_count": 199,
     "metadata": {},
     "output_type": "execute_result"
    }
   ],
   "source": [
    "df['country'].unique()"
   ]
  },
  {
   "cell_type": "markdown",
   "id": "7dd0b79f",
   "metadata": {},
   "source": [
    "### Timestamp\n",
    "ts: This field is a timestamp indicating when the track stopped playing in UTC (Coordinated Universal Time). The order is year, month and day followed by a timestamp in military time"
   ]
  },
  {
   "cell_type": "code",
   "execution_count": 200,
   "id": "3acbed24",
   "metadata": {},
   "outputs": [],
   "source": [
    "df.rename(columns={'ts': 'timestamp'}, inplace=True)"
   ]
  },
  {
   "cell_type": "code",
   "execution_count": 201,
   "id": "ec62268e",
   "metadata": {},
   "outputs": [
    {
     "data": {
      "text/plain": [
       "0    2018-03-16T20:41:49Z\n",
       "1    2018-03-16T20:42:29Z\n",
       "2    2018-03-16T20:44:28Z\n",
       "3    2018-03-16T20:45:00Z\n",
       "4    2018-03-16T20:47:55Z\n",
       "Name: timestamp, dtype: object"
      ]
     },
     "execution_count": 201,
     "metadata": {},
     "output_type": "execute_result"
    }
   ],
   "source": [
    "df['timestamp'].head()"
   ]
  },
  {
   "cell_type": "markdown",
   "id": "a0fb554f",
   "metadata": {},
   "source": [
    "First, change the format to datetime."
   ]
  },
  {
   "cell_type": "code",
   "execution_count": 202,
   "id": "ee198a49",
   "metadata": {},
   "outputs": [],
   "source": [
    "df['timestamp'] = df['timestamp'].apply(lambda x: datetime.strptime(x, '%Y-%m-%dT%H:%M:%SZ'))"
   ]
  },
  {
   "cell_type": "markdown",
   "id": "71d49c99",
   "metadata": {},
   "source": [
    "Next, I need to convert it to the relevant timezone for accurate time calculation."
   ]
  },
  {
   "cell_type": "code",
   "execution_count": 203,
   "id": "89dffbc0",
   "metadata": {},
   "outputs": [],
   "source": [
    "def convert_time_zone(stamp, country):\n",
    "    country_to_time = {\n",
    "        'United States': 'US/Eastern',\n",
    "        'Iceland': 'Atlantic/Reykjavik',\n",
    "        'Canada': 'US/Eastern',\n",
    "        'Germany': 'Europe/Berlin',\n",
    "        'India': 'Asia/Kolkata',\n",
    "        'Tanzania': 'Africa/Dar_es_Salaam',\n",
    "        'Kenya': 'Africa/Nairobi',\n",
    "        'Mexico': 'US/Eastern',\n",
    "        'Dominican Republic': 'US/Eastern'\n",
    "    }\n",
    "    \n",
    "    return stamp.astimezone(pytz.timezone('US/Eastern'))\n",
    "\n",
    "df['timestamp'] = df.apply(lambda x: convert_time_zone(x['timestamp'].replace(tzinfo=pytz.utc), x['country']), axis=1)"
   ]
  },
  {
   "cell_type": "markdown",
   "id": "97145b78",
   "metadata": {},
   "source": [
    "Now, I need to extract certain information from the timestamp:\n",
    "\n",
    "- Date\n",
    "- Year\n",
    "- Month\n",
    "- Day of week\n",
    "- Season (determined based on me living in the Northern Hemisphere)\n",
    "- Time\n",
    "- Time of day (Morning, Afternoon, Night)"
   ]
  },
  {
   "cell_type": "code",
   "execution_count": 205,
   "id": "b1421647",
   "metadata": {},
   "outputs": [],
   "source": [
    "df['date'] = df['timestamp'].dt.date"
   ]
  },
  {
   "cell_type": "code",
   "execution_count": 206,
   "id": "be3465cc",
   "metadata": {},
   "outputs": [],
   "source": [
    "df['year'] = df['timestamp'].dt.year"
   ]
  },
  {
   "cell_type": "code",
   "execution_count": 207,
   "id": "435a0518",
   "metadata": {},
   "outputs": [],
   "source": [
    "df['month'] = df['timestamp'].dt.month.apply(lambda x: calendar.month_name[x])"
   ]
  },
  {
   "cell_type": "code",
   "execution_count": 208,
   "id": "5d87f949",
   "metadata": {},
   "outputs": [],
   "source": [
    "df['day_of_week'] = df['timestamp'].dt.date.apply(lambda x: x.strftime('%A'))"
   ]
  },
  {
   "cell_type": "code",
   "execution_count": 209,
   "id": "0dd18d3f",
   "metadata": {},
   "outputs": [],
   "source": [
    "def determine_season(day, month, year):\n",
    "    seasons = {\n",
    "        'Spring': ((3,20), (6,20)),\n",
    "        'Summer': ((6,21), (9,21)),\n",
    "        'Fall': ((9,22), (12, 20)),\n",
    "        'Winter': ((12,21), (3,19))\n",
    "    }\n",
    "    \n",
    "    # check for winter\n",
    "    if (month == 12 and day >= 21) or (month in (1,2)) or (month == 3 and day <= 19):\n",
    "        return \"Winter\"\n",
    "    \n",
    "    for season, (s, e) in seasons.items():\n",
    "        start = datetime(year, s[0], s[1])\n",
    "        end = datetime(year, e[0], e[1])\n",
    "        date = datetime(year, month, day)\n",
    "        \n",
    "        if start <= date <= end:\n",
    "            return season\n",
    "\n",
    "df['season'] = df['timestamp'].dt.date.apply(lambda x: determine_season(x.day, x.month, x.year))"
   ]
  },
  {
   "cell_type": "code",
   "execution_count": 210,
   "id": "8a04fdbd",
   "metadata": {},
   "outputs": [],
   "source": [
    "df['time'] = df['timestamp'].dt.time"
   ]
  },
  {
   "cell_type": "code",
   "execution_count": 211,
   "id": "f4a3fac2",
   "metadata": {},
   "outputs": [],
   "source": [
    "def determine_time_of_day(h, m, s):\n",
    "    times_of_day = {\n",
    "        'Early Morning': (5, 8),\n",
    "        'Late Morning': (9, 12),\n",
    "        'Early Afternoon': (13, 15),\n",
    "        'Late Afternoon': (16, 17),\n",
    "        'Evening': (18, 20),\n",
    "        'Night': (21, 23),\n",
    "        'Late Night': (0, 4)\n",
    "    }\n",
    "    \n",
    "    for tod, (start, end) in times_of_day.items():\n",
    "        if start <= h <= end:\n",
    "            return tod\n",
    "\n",
    "df['time_of_day'] = df['timestamp'].dt.time.apply(lambda x: determine_time_of_day(x.hour, x.minute, x.second))"
   ]
  },
  {
   "cell_type": "code",
   "execution_count": 212,
   "id": "a8cb3eed",
   "metadata": {
    "scrolled": true
   },
   "outputs": [
    {
     "data": {
      "text/plain": [
       "Early Afternoon    24182\n",
       "Late Morning       23920\n",
       "Late Afternoon     18400\n",
       "Evening            18207\n",
       "Night              13805\n",
       "Late Night          5938\n",
       "Early Morning       5519\n",
       "Name: time_of_day, dtype: int64"
      ]
     },
     "execution_count": 212,
     "metadata": {},
     "output_type": "execute_result"
    }
   ],
   "source": [
    "df['time_of_day'].value_counts()"
   ]
  },
  {
   "cell_type": "code",
   "execution_count": 213,
   "id": "21b0088b",
   "metadata": {},
   "outputs": [
    {
     "data": {
      "text/html": [
       "<div>\n",
       "<style scoped>\n",
       "    .dataframe tbody tr th:only-of-type {\n",
       "        vertical-align: middle;\n",
       "    }\n",
       "\n",
       "    .dataframe tbody tr th {\n",
       "        vertical-align: top;\n",
       "    }\n",
       "\n",
       "    .dataframe thead th {\n",
       "        text-align: right;\n",
       "    }\n",
       "</style>\n",
       "<table border=\"1\" class=\"dataframe\">\n",
       "  <thead>\n",
       "    <tr style=\"text-align: right;\">\n",
       "      <th></th>\n",
       "      <th>timestamp</th>\n",
       "      <th>username</th>\n",
       "      <th>platform</th>\n",
       "      <th>ms_played</th>\n",
       "      <th>country</th>\n",
       "      <th>ip_addr_decrypted</th>\n",
       "      <th>user_agent_decrypted</th>\n",
       "      <th>master_metadata_track_name</th>\n",
       "      <th>master_metadata_album_artist_name</th>\n",
       "      <th>master_metadata_album_album_name</th>\n",
       "      <th>...</th>\n",
       "      <th>offline</th>\n",
       "      <th>offline_timestamp</th>\n",
       "      <th>incognito_mode</th>\n",
       "      <th>date</th>\n",
       "      <th>year</th>\n",
       "      <th>month</th>\n",
       "      <th>day_of_week</th>\n",
       "      <th>season</th>\n",
       "      <th>time</th>\n",
       "      <th>time_of_day</th>\n",
       "    </tr>\n",
       "  </thead>\n",
       "  <tbody>\n",
       "    <tr>\n",
       "      <th>0</th>\n",
       "      <td>2018-03-16 16:41:49-04:00</td>\n",
       "      <td>mmphieag</td>\n",
       "      <td>Windows 10 (10.0.16299; x64; AppX)</td>\n",
       "      <td>45010</td>\n",
       "      <td>United States</td>\n",
       "      <td>None</td>\n",
       "      <td>None</td>\n",
       "      <td>No Role Modelz</td>\n",
       "      <td>J. Cole</td>\n",
       "      <td>2014 Forest Hills Drive</td>\n",
       "      <td>...</td>\n",
       "      <td>False</td>\n",
       "      <td>1521232854659</td>\n",
       "      <td>False</td>\n",
       "      <td>2018-03-16</td>\n",
       "      <td>2018</td>\n",
       "      <td>March</td>\n",
       "      <td>Friday</td>\n",
       "      <td>Winter</td>\n",
       "      <td>16:41:49</td>\n",
       "      <td>Late Afternoon</td>\n",
       "    </tr>\n",
       "    <tr>\n",
       "      <th>1</th>\n",
       "      <td>2018-03-16 16:42:29-04:00</td>\n",
       "      <td>mmphieag</td>\n",
       "      <td>Windows 10 (10.0.16299; x64; AppX)</td>\n",
       "      <td>36270</td>\n",
       "      <td>United States</td>\n",
       "      <td>None</td>\n",
       "      <td>None</td>\n",
       "      <td>No Role Modelz</td>\n",
       "      <td>J. Cole</td>\n",
       "      <td>2014 Forest Hills Drive</td>\n",
       "      <td>...</td>\n",
       "      <td>False</td>\n",
       "      <td>1521232907487</td>\n",
       "      <td>False</td>\n",
       "      <td>2018-03-16</td>\n",
       "      <td>2018</td>\n",
       "      <td>March</td>\n",
       "      <td>Friday</td>\n",
       "      <td>Winter</td>\n",
       "      <td>16:42:29</td>\n",
       "      <td>Late Afternoon</td>\n",
       "    </tr>\n",
       "    <tr>\n",
       "      <th>2</th>\n",
       "      <td>2018-03-16 16:44:28-04:00</td>\n",
       "      <td>mmphieag</td>\n",
       "      <td>Windows 10 (10.0.16299; x64; AppX)</td>\n",
       "      <td>27800</td>\n",
       "      <td>United States</td>\n",
       "      <td>None</td>\n",
       "      <td>None</td>\n",
       "      <td>No Role Modelz</td>\n",
       "      <td>J. Cole</td>\n",
       "      <td>2014 Forest Hills Drive</td>\n",
       "      <td>...</td>\n",
       "      <td>False</td>\n",
       "      <td>1521232947154</td>\n",
       "      <td>False</td>\n",
       "      <td>2018-03-16</td>\n",
       "      <td>2018</td>\n",
       "      <td>March</td>\n",
       "      <td>Friday</td>\n",
       "      <td>Winter</td>\n",
       "      <td>16:44:28</td>\n",
       "      <td>Late Afternoon</td>\n",
       "    </tr>\n",
       "    <tr>\n",
       "      <th>3</th>\n",
       "      <td>2018-03-16 16:45:00-04:00</td>\n",
       "      <td>mmphieag</td>\n",
       "      <td>Windows 10 (10.0.16299; x64; AppX)</td>\n",
       "      <td>31060</td>\n",
       "      <td>United States</td>\n",
       "      <td>None</td>\n",
       "      <td>None</td>\n",
       "      <td>Chandler Road (Instrumental Remix)</td>\n",
       "      <td>Sbvce</td>\n",
       "      <td>Sbvce Pvck: Bedroomtrap Vol. 1</td>\n",
       "      <td>...</td>\n",
       "      <td>False</td>\n",
       "      <td>1521233066829</td>\n",
       "      <td>False</td>\n",
       "      <td>2018-03-16</td>\n",
       "      <td>2018</td>\n",
       "      <td>March</td>\n",
       "      <td>Friday</td>\n",
       "      <td>Winter</td>\n",
       "      <td>16:45:00</td>\n",
       "      <td>Late Afternoon</td>\n",
       "    </tr>\n",
       "    <tr>\n",
       "      <th>4</th>\n",
       "      <td>2018-03-16 16:47:55-04:00</td>\n",
       "      <td>mmphieag</td>\n",
       "      <td>Windows 10 (10.0.16299; x64; AppX)</td>\n",
       "      <td>3870</td>\n",
       "      <td>United States</td>\n",
       "      <td>None</td>\n",
       "      <td>None</td>\n",
       "      <td>I. The Worst Guys</td>\n",
       "      <td>Childish Gambino</td>\n",
       "      <td>Because The Internet</td>\n",
       "      <td>...</td>\n",
       "      <td>False</td>\n",
       "      <td>1521233098379</td>\n",
       "      <td>False</td>\n",
       "      <td>2018-03-16</td>\n",
       "      <td>2018</td>\n",
       "      <td>March</td>\n",
       "      <td>Friday</td>\n",
       "      <td>Winter</td>\n",
       "      <td>16:47:55</td>\n",
       "      <td>Late Afternoon</td>\n",
       "    </tr>\n",
       "  </tbody>\n",
       "</table>\n",
       "<p>5 rows × 28 columns</p>\n",
       "</div>"
      ],
      "text/plain": [
       "                  timestamp  username                            platform  \\\n",
       "0 2018-03-16 16:41:49-04:00  mmphieag  Windows 10 (10.0.16299; x64; AppX)   \n",
       "1 2018-03-16 16:42:29-04:00  mmphieag  Windows 10 (10.0.16299; x64; AppX)   \n",
       "2 2018-03-16 16:44:28-04:00  mmphieag  Windows 10 (10.0.16299; x64; AppX)   \n",
       "3 2018-03-16 16:45:00-04:00  mmphieag  Windows 10 (10.0.16299; x64; AppX)   \n",
       "4 2018-03-16 16:47:55-04:00  mmphieag  Windows 10 (10.0.16299; x64; AppX)   \n",
       "\n",
       "   ms_played        country ip_addr_decrypted user_agent_decrypted  \\\n",
       "0      45010  United States              None                 None   \n",
       "1      36270  United States              None                 None   \n",
       "2      27800  United States              None                 None   \n",
       "3      31060  United States              None                 None   \n",
       "4       3870  United States              None                 None   \n",
       "\n",
       "           master_metadata_track_name master_metadata_album_artist_name  \\\n",
       "0                      No Role Modelz                           J. Cole   \n",
       "1                      No Role Modelz                           J. Cole   \n",
       "2                      No Role Modelz                           J. Cole   \n",
       "3  Chandler Road (Instrumental Remix)                             Sbvce   \n",
       "4                   I. The Worst Guys                  Childish Gambino   \n",
       "\n",
       "  master_metadata_album_album_name  ... offline offline_timestamp  \\\n",
       "0          2014 Forest Hills Drive  ...   False     1521232854659   \n",
       "1          2014 Forest Hills Drive  ...   False     1521232907487   \n",
       "2          2014 Forest Hills Drive  ...   False     1521232947154   \n",
       "3   Sbvce Pvck: Bedroomtrap Vol. 1  ...   False     1521233066829   \n",
       "4             Because The Internet  ...   False     1521233098379   \n",
       "\n",
       "  incognito_mode        date  year  month  day_of_week  season      time  \\\n",
       "0          False  2018-03-16  2018  March       Friday  Winter  16:41:49   \n",
       "1          False  2018-03-16  2018  March       Friday  Winter  16:42:29   \n",
       "2          False  2018-03-16  2018  March       Friday  Winter  16:44:28   \n",
       "3          False  2018-03-16  2018  March       Friday  Winter  16:45:00   \n",
       "4          False  2018-03-16  2018  March       Friday  Winter  16:47:55   \n",
       "\n",
       "      time_of_day  \n",
       "0  Late Afternoon  \n",
       "1  Late Afternoon  \n",
       "2  Late Afternoon  \n",
       "3  Late Afternoon  \n",
       "4  Late Afternoon  \n",
       "\n",
       "[5 rows x 28 columns]"
      ]
     },
     "execution_count": 213,
     "metadata": {},
     "output_type": "execute_result"
    }
   ],
   "source": [
    "df.head()"
   ]
  },
  {
   "cell_type": "markdown",
   "id": "2c9e5ef8",
   "metadata": {},
   "source": [
    "### Username\n",
    "username: This field is your Spotify username."
   ]
  },
  {
   "cell_type": "code",
   "execution_count": null,
   "id": "0be75137",
   "metadata": {},
   "outputs": [],
   "source": []
  },
  {
   "cell_type": "markdown",
   "id": "49e80bb4",
   "metadata": {},
   "source": [
    "### Platform\n",
    "platform: This field is the platform used when streaming the track (e.g. Android OS, Google Chromecast)."
   ]
  },
  {
   "cell_type": "code",
   "execution_count": null,
   "id": "6e6a91bc",
   "metadata": {},
   "outputs": [],
   "source": []
  },
  {
   "cell_type": "markdown",
   "id": "37863039",
   "metadata": {},
   "source": [
    "### Milliseconds Played\n",
    "ms_played: This field is the number of milliseconds the stream was played."
   ]
  },
  {
   "cell_type": "code",
   "execution_count": null,
   "id": "095fdf50",
   "metadata": {},
   "outputs": [],
   "source": []
  },
  {
   "cell_type": "markdown",
   "id": "0a0f20ed",
   "metadata": {},
   "source": [
    "### IP Address\n",
    "Ip_addr_decrypted: This field contains the IP address logged when streaming the track."
   ]
  },
  {
   "cell_type": "code",
   "execution_count": null,
   "id": "38e98bdc",
   "metadata": {},
   "outputs": [],
   "source": []
  },
  {
   "cell_type": "markdown",
   "id": "f57739b5",
   "metadata": {},
   "source": [
    "### User Agent\n",
    "user_agent_decrypted: This field contains the user agent used when streaming the track (e.g. a browser, like Mozilla Firefox, or Safari)"
   ]
  },
  {
   "cell_type": "code",
   "execution_count": null,
   "id": "534f373d",
   "metadata": {},
   "outputs": [],
   "source": []
  },
  {
   "cell_type": "markdown",
   "id": "525d358b",
   "metadata": {},
   "source": [
    "### Track Name\n",
    "master_metadata_track_name: This field is the name of the track."
   ]
  },
  {
   "cell_type": "code",
   "execution_count": null,
   "id": "a178d945",
   "metadata": {},
   "outputs": [],
   "source": []
  },
  {
   "cell_type": "markdown",
   "id": "c93bdced",
   "metadata": {},
   "source": [
    "### Artist Name\n",
    "master_metadata_album_artist_name: This field is the name of the artist, band or podcast."
   ]
  },
  {
   "cell_type": "code",
   "execution_count": null,
   "id": "f4e00261",
   "metadata": {},
   "outputs": [],
   "source": []
  },
  {
   "cell_type": "markdown",
   "id": "8e194bec",
   "metadata": {},
   "source": [
    "### Album Name\n",
    "master_metadata_album_album_name: This field is the name of the album of the track."
   ]
  },
  {
   "cell_type": "code",
   "execution_count": null,
   "id": "b7115522",
   "metadata": {},
   "outputs": [],
   "source": []
  },
  {
   "cell_type": "markdown",
   "id": "a0eafeef",
   "metadata": {},
   "source": [
    "### Spotify URI\n",
    "spotify_track_uri: A Spotify URI, uniquely identifying the track in the form of “spotify:track:<base-62 string>”\n",
    "A Spotify URI is a resource identifier that you can enter, for example, in the Spotify Desktop client’s search box to locate an artist, album, or track."
   ]
  },
  {
   "cell_type": "code",
   "execution_count": null,
   "id": "c36aa92a",
   "metadata": {},
   "outputs": [],
   "source": []
  },
  {
   "cell_type": "markdown",
   "id": "bd81e054",
   "metadata": {},
   "source": [
    "### Episode Name\n",
    "episode_name: This field contains the name of the episode of the podcast."
   ]
  },
  {
   "cell_type": "code",
   "execution_count": null,
   "id": "f779231d",
   "metadata": {},
   "outputs": [],
   "source": []
  },
  {
   "cell_type": "markdown",
   "id": "d0952b9d",
   "metadata": {},
   "source": [
    "### Episode Show Name\n",
    "episode_show_name: This field contains the name of the show of the podcast."
   ]
  },
  {
   "cell_type": "code",
   "execution_count": null,
   "id": "d682c003",
   "metadata": {},
   "outputs": [],
   "source": []
  },
  {
   "cell_type": "markdown",
   "id": "49eeac9a",
   "metadata": {},
   "source": [
    "### Spotify Episode URI\n",
    "spotify_episode_uri: A Spotify Episode URI, uniquely identifying the podcast episode in the form of “spotify:episode:<base-62 string>”"
   ]
  },
  {
   "cell_type": "code",
   "execution_count": null,
   "id": "d611f72e",
   "metadata": {},
   "outputs": [],
   "source": []
  },
  {
   "cell_type": "markdown",
   "id": "3acb3e2d",
   "metadata": {},
   "source": [
    "### Reason Start\n",
    "reason_start: This field is a value telling why the track started (e.g. “trackdone”)"
   ]
  },
  {
   "cell_type": "code",
   "execution_count": null,
   "id": "9e6c36ad",
   "metadata": {},
   "outputs": [],
   "source": []
  },
  {
   "cell_type": "markdown",
   "id": "2a103ccc",
   "metadata": {},
   "source": [
    "### Reason End\n",
    "reason_end: This field is a value telling why the track ended (e.g. “endplay”)."
   ]
  },
  {
   "cell_type": "code",
   "execution_count": null,
   "id": "7616c1f0",
   "metadata": {},
   "outputs": [],
   "source": []
  },
  {
   "cell_type": "markdown",
   "id": "c8520b45",
   "metadata": {},
   "source": [
    "### Shuffle?\n",
    "shuffle: This field has the value True or False depending on if shuffle mode was used when playing the track."
   ]
  },
  {
   "cell_type": "code",
   "execution_count": null,
   "id": "df6b6b96",
   "metadata": {},
   "outputs": [],
   "source": []
  },
  {
   "cell_type": "markdown",
   "id": "0f7dba20",
   "metadata": {},
   "source": [
    "### Skipped?\n",
    "skipped: This field indicates if the user skipped to the next song"
   ]
  },
  {
   "cell_type": "code",
   "execution_count": null,
   "id": "cc98c006",
   "metadata": {},
   "outputs": [],
   "source": []
  },
  {
   "cell_type": "markdown",
   "id": "440a378b",
   "metadata": {},
   "source": [
    "### Offline?\n",
    "offline: This field indicates whether the track was played in offline mode (“True”) or not (“False”)."
   ]
  },
  {
   "cell_type": "code",
   "execution_count": null,
   "id": "749b31be",
   "metadata": {},
   "outputs": [],
   "source": []
  },
  {
   "cell_type": "markdown",
   "id": "72c11cfc",
   "metadata": {},
   "source": [
    "### Offline Timestamp\n",
    "offline_timestamp: This field is a timestamp of when offline mode was used, if used."
   ]
  },
  {
   "cell_type": "code",
   "execution_count": null,
   "id": "150c625a",
   "metadata": {},
   "outputs": [],
   "source": []
  },
  {
   "cell_type": "markdown",
   "id": "afda455a",
   "metadata": {},
   "source": [
    "### Incognito Mode?\n",
    "incognito_mode: This field indicates whether the track was played during a private session (“True”) or not (“False”)."
   ]
  },
  {
   "cell_type": "code",
   "execution_count": null,
   "id": "0e5e5600",
   "metadata": {},
   "outputs": [],
   "source": []
  }
 ],
 "metadata": {
  "kernelspec": {
   "display_name": "Python 3 (ipykernel)",
   "language": "python",
   "name": "python3"
  },
  "language_info": {
   "codemirror_mode": {
    "name": "ipython",
    "version": 3
   },
   "file_extension": ".py",
   "mimetype": "text/x-python",
   "name": "python",
   "nbconvert_exporter": "python",
   "pygments_lexer": "ipython3",
   "version": "3.10.0"
  }
 },
 "nbformat": 4,
 "nbformat_minor": 5
}
